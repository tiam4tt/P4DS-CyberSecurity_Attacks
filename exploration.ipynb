{
 "cells": [
  {
   "cell_type": "code",
   "execution_count": 29,
   "metadata": {},
   "outputs": [],
   "source": [
    "import pandas as pd"
   ]
  },
  {
   "cell_type": "markdown",
   "metadata": {},
   "source": [
    "# Read data from file csv"
   ]
  },
  {
   "cell_type": "code",
   "execution_count": 30,
   "metadata": {},
   "outputs": [
    {
     "data": {
      "text/html": [
       "<div>\n",
       "<style scoped>\n",
       "    .dataframe tbody tr th:only-of-type {\n",
       "        vertical-align: middle;\n",
       "    }\n",
       "\n",
       "    .dataframe tbody tr th {\n",
       "        vertical-align: top;\n",
       "    }\n",
       "\n",
       "    .dataframe thead th {\n",
       "        text-align: right;\n",
       "    }\n",
       "</style>\n",
       "<table border=\"1\" class=\"dataframe\">\n",
       "  <thead>\n",
       "    <tr style=\"text-align: right;\">\n",
       "      <th></th>\n",
       "      <th>0</th>\n",
       "      <th>1</th>\n",
       "      <th>2</th>\n",
       "      <th>3</th>\n",
       "      <th>4</th>\n",
       "    </tr>\n",
       "  </thead>\n",
       "  <tbody>\n",
       "    <tr>\n",
       "      <th>Timestamp</th>\n",
       "      <td>2023-05-30 06:33:58</td>\n",
       "      <td>2020-08-26 07:08:30</td>\n",
       "      <td>2022-11-13 08:23:25</td>\n",
       "      <td>2023-07-02 10:38:46</td>\n",
       "      <td>2023-07-16 13:11:07</td>\n",
       "    </tr>\n",
       "    <tr>\n",
       "      <th>Source IP Address</th>\n",
       "      <td>103.216.15.12</td>\n",
       "      <td>78.199.217.198</td>\n",
       "      <td>63.79.210.48</td>\n",
       "      <td>163.42.196.10</td>\n",
       "      <td>71.166.185.76</td>\n",
       "    </tr>\n",
       "    <tr>\n",
       "      <th>Destination IP Address</th>\n",
       "      <td>84.9.164.252</td>\n",
       "      <td>66.191.137.154</td>\n",
       "      <td>198.219.82.17</td>\n",
       "      <td>101.228.192.255</td>\n",
       "      <td>189.243.174.238</td>\n",
       "    </tr>\n",
       "    <tr>\n",
       "      <th>Source Port</th>\n",
       "      <td>31225</td>\n",
       "      <td>17245</td>\n",
       "      <td>16811</td>\n",
       "      <td>20018</td>\n",
       "      <td>6131</td>\n",
       "    </tr>\n",
       "    <tr>\n",
       "      <th>Destination Port</th>\n",
       "      <td>17616</td>\n",
       "      <td>48166</td>\n",
       "      <td>53600</td>\n",
       "      <td>32534</td>\n",
       "      <td>26646</td>\n",
       "    </tr>\n",
       "    <tr>\n",
       "      <th>Protocol</th>\n",
       "      <td>ICMP</td>\n",
       "      <td>ICMP</td>\n",
       "      <td>UDP</td>\n",
       "      <td>UDP</td>\n",
       "      <td>TCP</td>\n",
       "    </tr>\n",
       "    <tr>\n",
       "      <th>Packet Length</th>\n",
       "      <td>503</td>\n",
       "      <td>1174</td>\n",
       "      <td>306</td>\n",
       "      <td>385</td>\n",
       "      <td>1462</td>\n",
       "    </tr>\n",
       "    <tr>\n",
       "      <th>Packet Type</th>\n",
       "      <td>Data</td>\n",
       "      <td>Data</td>\n",
       "      <td>Control</td>\n",
       "      <td>Data</td>\n",
       "      <td>Data</td>\n",
       "    </tr>\n",
       "    <tr>\n",
       "      <th>Traffic Type</th>\n",
       "      <td>HTTP</td>\n",
       "      <td>HTTP</td>\n",
       "      <td>HTTP</td>\n",
       "      <td>HTTP</td>\n",
       "      <td>DNS</td>\n",
       "    </tr>\n",
       "    <tr>\n",
       "      <th>Payload Data</th>\n",
       "      <td>Qui natus odio asperiores nam. Optio nobis ius...</td>\n",
       "      <td>Aperiam quos modi officiis veritatis rem. Omni...</td>\n",
       "      <td>Perferendis sapiente vitae soluta. Hic delectu...</td>\n",
       "      <td>Totam maxime beatae expedita explicabo porro l...</td>\n",
       "      <td>Odit nesciunt dolorem nisi iste iusto. Animi v...</td>\n",
       "    </tr>\n",
       "    <tr>\n",
       "      <th>Malware Indicators</th>\n",
       "      <td>IoC Detected</td>\n",
       "      <td>IoC Detected</td>\n",
       "      <td>IoC Detected</td>\n",
       "      <td>NaN</td>\n",
       "      <td>NaN</td>\n",
       "    </tr>\n",
       "    <tr>\n",
       "      <th>Anomaly Scores</th>\n",
       "      <td>28.67</td>\n",
       "      <td>51.5</td>\n",
       "      <td>87.42</td>\n",
       "      <td>15.79</td>\n",
       "      <td>0.52</td>\n",
       "    </tr>\n",
       "    <tr>\n",
       "      <th>Alerts/Warnings</th>\n",
       "      <td>NaN</td>\n",
       "      <td>NaN</td>\n",
       "      <td>Alert Triggered</td>\n",
       "      <td>Alert Triggered</td>\n",
       "      <td>Alert Triggered</td>\n",
       "    </tr>\n",
       "    <tr>\n",
       "      <th>Attack Type</th>\n",
       "      <td>Malware</td>\n",
       "      <td>Malware</td>\n",
       "      <td>DDoS</td>\n",
       "      <td>Malware</td>\n",
       "      <td>DDoS</td>\n",
       "    </tr>\n",
       "    <tr>\n",
       "      <th>Attack Signature</th>\n",
       "      <td>Known Pattern B</td>\n",
       "      <td>Known Pattern A</td>\n",
       "      <td>Known Pattern B</td>\n",
       "      <td>Known Pattern B</td>\n",
       "      <td>Known Pattern B</td>\n",
       "    </tr>\n",
       "    <tr>\n",
       "      <th>Action Taken</th>\n",
       "      <td>Logged</td>\n",
       "      <td>Blocked</td>\n",
       "      <td>Ignored</td>\n",
       "      <td>Blocked</td>\n",
       "      <td>Blocked</td>\n",
       "    </tr>\n",
       "    <tr>\n",
       "      <th>Severity Level</th>\n",
       "      <td>Low</td>\n",
       "      <td>Low</td>\n",
       "      <td>Low</td>\n",
       "      <td>Medium</td>\n",
       "      <td>Low</td>\n",
       "    </tr>\n",
       "    <tr>\n",
       "      <th>User Information</th>\n",
       "      <td>Reyansh Dugal</td>\n",
       "      <td>Sumer Rana</td>\n",
       "      <td>Himmat Karpe</td>\n",
       "      <td>Fateh Kibe</td>\n",
       "      <td>Dhanush Chad</td>\n",
       "    </tr>\n",
       "    <tr>\n",
       "      <th>Device Information</th>\n",
       "      <td>Mozilla/5.0 (compatible; MSIE 8.0; Windows NT ...</td>\n",
       "      <td>Mozilla/5.0 (compatible; MSIE 8.0; Windows NT ...</td>\n",
       "      <td>Mozilla/5.0 (compatible; MSIE 9.0; Windows NT ...</td>\n",
       "      <td>Mozilla/5.0 (Macintosh; PPC Mac OS X 10_11_5; ...</td>\n",
       "      <td>Mozilla/5.0 (compatible; MSIE 5.0; Windows NT ...</td>\n",
       "    </tr>\n",
       "    <tr>\n",
       "      <th>Network Segment</th>\n",
       "      <td>Segment A</td>\n",
       "      <td>Segment B</td>\n",
       "      <td>Segment C</td>\n",
       "      <td>Segment B</td>\n",
       "      <td>Segment C</td>\n",
       "    </tr>\n",
       "    <tr>\n",
       "      <th>Geo-location Data</th>\n",
       "      <td>Jamshedpur, Sikkim</td>\n",
       "      <td>Bilaspur, Nagaland</td>\n",
       "      <td>Bokaro, Rajasthan</td>\n",
       "      <td>Jaunpur, Rajasthan</td>\n",
       "      <td>Anantapur, Tripura</td>\n",
       "    </tr>\n",
       "    <tr>\n",
       "      <th>Proxy Information</th>\n",
       "      <td>150.9.97.135</td>\n",
       "      <td>NaN</td>\n",
       "      <td>114.133.48.179</td>\n",
       "      <td>NaN</td>\n",
       "      <td>149.6.110.119</td>\n",
       "    </tr>\n",
       "    <tr>\n",
       "      <th>Firewall Logs</th>\n",
       "      <td>Log Data</td>\n",
       "      <td>Log Data</td>\n",
       "      <td>Log Data</td>\n",
       "      <td>NaN</td>\n",
       "      <td>NaN</td>\n",
       "    </tr>\n",
       "    <tr>\n",
       "      <th>IDS/IPS Alerts</th>\n",
       "      <td>NaN</td>\n",
       "      <td>NaN</td>\n",
       "      <td>Alert Data</td>\n",
       "      <td>Alert Data</td>\n",
       "      <td>Alert Data</td>\n",
       "    </tr>\n",
       "    <tr>\n",
       "      <th>Log Source</th>\n",
       "      <td>Server</td>\n",
       "      <td>Firewall</td>\n",
       "      <td>Firewall</td>\n",
       "      <td>Firewall</td>\n",
       "      <td>Firewall</td>\n",
       "    </tr>\n",
       "  </tbody>\n",
       "</table>\n",
       "</div>"
      ],
      "text/plain": [
       "                                                                        0  \\\n",
       "Timestamp                                             2023-05-30 06:33:58   \n",
       "Source IP Address                                           103.216.15.12   \n",
       "Destination IP Address                                       84.9.164.252   \n",
       "Source Port                                                         31225   \n",
       "Destination Port                                                    17616   \n",
       "Protocol                                                             ICMP   \n",
       "Packet Length                                                         503   \n",
       "Packet Type                                                          Data   \n",
       "Traffic Type                                                         HTTP   \n",
       "Payload Data            Qui natus odio asperiores nam. Optio nobis ius...   \n",
       "Malware Indicators                                           IoC Detected   \n",
       "Anomaly Scores                                                      28.67   \n",
       "Alerts/Warnings                                                       NaN   \n",
       "Attack Type                                                       Malware   \n",
       "Attack Signature                                          Known Pattern B   \n",
       "Action Taken                                                       Logged   \n",
       "Severity Level                                                        Low   \n",
       "User Information                                            Reyansh Dugal   \n",
       "Device Information      Mozilla/5.0 (compatible; MSIE 8.0; Windows NT ...   \n",
       "Network Segment                                                 Segment A   \n",
       "Geo-location Data                                      Jamshedpur, Sikkim   \n",
       "Proxy Information                                            150.9.97.135   \n",
       "Firewall Logs                                                    Log Data   \n",
       "IDS/IPS Alerts                                                        NaN   \n",
       "Log Source                                                         Server   \n",
       "\n",
       "                                                                        1  \\\n",
       "Timestamp                                             2020-08-26 07:08:30   \n",
       "Source IP Address                                          78.199.217.198   \n",
       "Destination IP Address                                     66.191.137.154   \n",
       "Source Port                                                         17245   \n",
       "Destination Port                                                    48166   \n",
       "Protocol                                                             ICMP   \n",
       "Packet Length                                                        1174   \n",
       "Packet Type                                                          Data   \n",
       "Traffic Type                                                         HTTP   \n",
       "Payload Data            Aperiam quos modi officiis veritatis rem. Omni...   \n",
       "Malware Indicators                                           IoC Detected   \n",
       "Anomaly Scores                                                       51.5   \n",
       "Alerts/Warnings                                                       NaN   \n",
       "Attack Type                                                       Malware   \n",
       "Attack Signature                                          Known Pattern A   \n",
       "Action Taken                                                      Blocked   \n",
       "Severity Level                                                        Low   \n",
       "User Information                                               Sumer Rana   \n",
       "Device Information      Mozilla/5.0 (compatible; MSIE 8.0; Windows NT ...   \n",
       "Network Segment                                                 Segment B   \n",
       "Geo-location Data                                      Bilaspur, Nagaland   \n",
       "Proxy Information                                                     NaN   \n",
       "Firewall Logs                                                    Log Data   \n",
       "IDS/IPS Alerts                                                        NaN   \n",
       "Log Source                                                       Firewall   \n",
       "\n",
       "                                                                        2  \\\n",
       "Timestamp                                             2022-11-13 08:23:25   \n",
       "Source IP Address                                            63.79.210.48   \n",
       "Destination IP Address                                      198.219.82.17   \n",
       "Source Port                                                         16811   \n",
       "Destination Port                                                    53600   \n",
       "Protocol                                                              UDP   \n",
       "Packet Length                                                         306   \n",
       "Packet Type                                                       Control   \n",
       "Traffic Type                                                         HTTP   \n",
       "Payload Data            Perferendis sapiente vitae soluta. Hic delectu...   \n",
       "Malware Indicators                                           IoC Detected   \n",
       "Anomaly Scores                                                      87.42   \n",
       "Alerts/Warnings                                           Alert Triggered   \n",
       "Attack Type                                                          DDoS   \n",
       "Attack Signature                                          Known Pattern B   \n",
       "Action Taken                                                      Ignored   \n",
       "Severity Level                                                        Low   \n",
       "User Information                                             Himmat Karpe   \n",
       "Device Information      Mozilla/5.0 (compatible; MSIE 9.0; Windows NT ...   \n",
       "Network Segment                                                 Segment C   \n",
       "Geo-location Data                                       Bokaro, Rajasthan   \n",
       "Proxy Information                                          114.133.48.179   \n",
       "Firewall Logs                                                    Log Data   \n",
       "IDS/IPS Alerts                                                 Alert Data   \n",
       "Log Source                                                       Firewall   \n",
       "\n",
       "                                                                        3  \\\n",
       "Timestamp                                             2023-07-02 10:38:46   \n",
       "Source IP Address                                           163.42.196.10   \n",
       "Destination IP Address                                    101.228.192.255   \n",
       "Source Port                                                         20018   \n",
       "Destination Port                                                    32534   \n",
       "Protocol                                                              UDP   \n",
       "Packet Length                                                         385   \n",
       "Packet Type                                                          Data   \n",
       "Traffic Type                                                         HTTP   \n",
       "Payload Data            Totam maxime beatae expedita explicabo porro l...   \n",
       "Malware Indicators                                                    NaN   \n",
       "Anomaly Scores                                                      15.79   \n",
       "Alerts/Warnings                                           Alert Triggered   \n",
       "Attack Type                                                       Malware   \n",
       "Attack Signature                                          Known Pattern B   \n",
       "Action Taken                                                      Blocked   \n",
       "Severity Level                                                     Medium   \n",
       "User Information                                               Fateh Kibe   \n",
       "Device Information      Mozilla/5.0 (Macintosh; PPC Mac OS X 10_11_5; ...   \n",
       "Network Segment                                                 Segment B   \n",
       "Geo-location Data                                      Jaunpur, Rajasthan   \n",
       "Proxy Information                                                     NaN   \n",
       "Firewall Logs                                                         NaN   \n",
       "IDS/IPS Alerts                                                 Alert Data   \n",
       "Log Source                                                       Firewall   \n",
       "\n",
       "                                                                        4  \n",
       "Timestamp                                             2023-07-16 13:11:07  \n",
       "Source IP Address                                           71.166.185.76  \n",
       "Destination IP Address                                    189.243.174.238  \n",
       "Source Port                                                          6131  \n",
       "Destination Port                                                    26646  \n",
       "Protocol                                                              TCP  \n",
       "Packet Length                                                        1462  \n",
       "Packet Type                                                          Data  \n",
       "Traffic Type                                                          DNS  \n",
       "Payload Data            Odit nesciunt dolorem nisi iste iusto. Animi v...  \n",
       "Malware Indicators                                                    NaN  \n",
       "Anomaly Scores                                                       0.52  \n",
       "Alerts/Warnings                                           Alert Triggered  \n",
       "Attack Type                                                          DDoS  \n",
       "Attack Signature                                          Known Pattern B  \n",
       "Action Taken                                                      Blocked  \n",
       "Severity Level                                                        Low  \n",
       "User Information                                             Dhanush Chad  \n",
       "Device Information      Mozilla/5.0 (compatible; MSIE 5.0; Windows NT ...  \n",
       "Network Segment                                                 Segment C  \n",
       "Geo-location Data                                      Anantapur, Tripura  \n",
       "Proxy Information                                           149.6.110.119  \n",
       "Firewall Logs                                                         NaN  \n",
       "IDS/IPS Alerts                                                 Alert Data  \n",
       "Log Source                                                       Firewall  "
      ]
     },
     "execution_count": 30,
     "metadata": {},
     "output_type": "execute_result"
    }
   ],
   "source": [
    "df = pd.read_csv('data/cybersecurity_attacks.csv')\n",
    "df.head().T"
   ]
  },
  {
   "cell_type": "markdown",
   "metadata": {},
   "source": [
    "# List columns"
   ]
  },
  {
   "cell_type": "code",
   "execution_count": 31,
   "metadata": {},
   "outputs": [
    {
     "data": {
      "text/plain": [
       "Index(['Timestamp', 'Source IP Address', 'Destination IP Address',\n",
       "       'Source Port', 'Destination Port', 'Protocol', 'Packet Length',\n",
       "       'Packet Type', 'Traffic Type', 'Payload Data', 'Malware Indicators',\n",
       "       'Anomaly Scores', 'Alerts/Warnings', 'Attack Type', 'Attack Signature',\n",
       "       'Action Taken', 'Severity Level', 'User Information',\n",
       "       'Device Information', 'Network Segment', 'Geo-location Data',\n",
       "       'Proxy Information', 'Firewall Logs', 'IDS/IPS Alerts', 'Log Source'],\n",
       "      dtype='object')"
      ]
     },
     "execution_count": 31,
     "metadata": {},
     "output_type": "execute_result"
    }
   ],
   "source": [
    "df.columns"
   ]
  },
  {
   "cell_type": "markdown",
   "metadata": {},
   "source": [
    "# Number of rows and columns"
   ]
  },
  {
   "cell_type": "code",
   "execution_count": 32,
   "metadata": {},
   "outputs": [
    {
     "name": "stdout",
     "output_type": "stream",
     "text": [
      "Number of rows: 40000\n",
      "Number of columns: 25\n"
     ]
    }
   ],
   "source": [
    "num_rows, num_cols = df.shape\n",
    "print(f'Number of rows: {num_rows}')\n",
    "print(f'Number of columns: {num_cols}')"
   ]
  },
  {
   "cell_type": "markdown",
   "metadata": {},
   "source": [
    "# Meaning of each column\n",
    "**1. Time stamp**: The time at which the network activity occurred. <br>\n",
    "**2. Source IP Address**: The IP address of the device that initiated the network activity.<br>\n",
    "**3. Destination IP Address**: The IP address of the device that received the network activity.<br>\n",
    "**4. Source Port**: The port number used by the source IP address.<br>\n",
    "**5. Destination Port**: The port number used by the destination IP address.<br>\n",
    "**6. Protocol**: The communication protocol used for the network activity. (TCP, UDP, etc.)<br>\n",
    "**7. Packet Length**: The size of the packet in bytes.<br>\n",
    "**8. Packet Type**: Type of packet (data packet, control packet, etc.)<br>\n",
    "**9. Traffic Type**: The type of traffic (web traffic, email traffic, etc.)<br>\n",
    "**10. Payload Data**: The data contained in the packet.<br>\n",
    "**11. Malware Indicators**: Indicators of potentially malicious activity or presence of malware.<br>\n",
    "**12. Anomaly Scores**: Scores indicating deviations from expected behavior, used for anomaly detection.<br>\n",
    "**13. Alerts/Warning**: Notifications or warnings generated by security systems or monitoring tools.<br>\n",
    "**14. Attack Type**: Type of attack detected or suspected. (DDoS, SQL injection, etc.)<br>\n",
    "**15. Attack Signature**: Specific patterns or signatures associated with known attacks.<br>\n",
    "**16. Action Taken**: The response or action taken in response to the network activity.<br>\n",
    "**17. Severity Level**: The level of severity associated with an alert or event. (Low, Medium, High, etc.)<br>\n",
    "**18. User Information**: Information about the user involved in the network activity.<br>\n",
    "**19. Device Information**: Information about the device involved in the network activity. (device type, operating system, etc.)<br>\n",
    "**20. Network Segment**: The segment or subnet of the network where the activity occurred.<br>\n",
    "**21. Geo-location Data**: Geographic location data associated with the IP addresses.<br>\n",
    "**22. Proxy Information**: Information about proxy servers or intermediaries involved in the network activity.<br>\n",
    "**23. Firewall Logs**: Logs generated by firewall devices indicating allowed or blocked traffic.<br>\n",
    "**24. IDS/IPS Alerts**: Alerts generated by intrusion detection or prevention systems.<br>\n",
    "**25. Log Source**: The source or origin of the log entry.(name of the logging device or system).<br>"
   ]
  },
  {
   "cell_type": "markdown",
   "metadata": {},
   "source": [
    "# Check duplicated rows"
   ]
  },
  {
   "cell_type": "code",
   "execution_count": 33,
   "metadata": {},
   "outputs": [
    {
     "data": {
      "text/plain": [
       "0"
      ]
     },
     "execution_count": 33,
     "metadata": {},
     "output_type": "execute_result"
    }
   ],
   "source": [
    "duplicate_rows = df.duplicated().sum()\n",
    "duplicate_rows"
   ]
  },
  {
   "cell_type": "markdown",
   "metadata": {},
   "source": [
    "# Check missing/null values"
   ]
  },
  {
   "cell_type": "code",
   "execution_count": 34,
   "metadata": {},
   "outputs": [
    {
     "data": {
      "text/plain": [
       "Alerts/Warnings           20067\n",
       "IDS/IPS Alerts            20050\n",
       "Malware Indicators        20000\n",
       "Firewall Logs             19961\n",
       "Proxy Information         19851\n",
       "Attack Type                   0\n",
       "Geo-location Data             0\n",
       "Network Segment               0\n",
       "Device Information            0\n",
       "User Information              0\n",
       "Severity Level                0\n",
       "Action Taken                  0\n",
       "Attack Signature              0\n",
       "Timestamp                     0\n",
       "Source IP Address             0\n",
       "Anomaly Scores                0\n",
       "Payload Data                  0\n",
       "Traffic Type                  0\n",
       "Packet Type                   0\n",
       "Packet Length                 0\n",
       "Protocol                      0\n",
       "Destination Port              0\n",
       "Source Port                   0\n",
       "Destination IP Address        0\n",
       "Log Source                    0\n",
       "dtype: int64"
      ]
     },
     "execution_count": 34,
     "metadata": {},
     "output_type": "execute_result"
    }
   ],
   "source": [
    "df.isnull().sum().sort_values(ascending=False)"
   ]
  },
  {
   "cell_type": "markdown",
   "metadata": {},
   "source": [
    "#### Missing values in each column\n",
    "- Alert/Warning: 20067\n",
    "- IDS/IPS Alerts: 20050\n",
    "- Malware Indicators: 20000\n",
    "- Firewall Logs: 19961\n",
    "- Proxy Information: 19961"
   ]
  },
  {
   "cell_type": "code",
   "execution_count": 35,
   "metadata": {},
   "outputs": [
    {
     "data": {
      "text/plain": [
       "Timestamp                  0.0000\n",
       "Source IP Address          0.0000\n",
       "Destination IP Address     0.0000\n",
       "Source Port                0.0000\n",
       "Destination Port           0.0000\n",
       "Protocol                   0.0000\n",
       "Packet Length              0.0000\n",
       "Packet Type                0.0000\n",
       "Traffic Type               0.0000\n",
       "Payload Data               0.0000\n",
       "Malware Indicators        50.0000\n",
       "Anomaly Scores             0.0000\n",
       "Alerts/Warnings           50.1675\n",
       "Attack Type                0.0000\n",
       "Attack Signature           0.0000\n",
       "Action Taken               0.0000\n",
       "Severity Level             0.0000\n",
       "User Information           0.0000\n",
       "Device Information         0.0000\n",
       "Network Segment            0.0000\n",
       "Geo-location Data          0.0000\n",
       "Proxy Information         49.6275\n",
       "Firewall Logs             49.9025\n",
       "IDS/IPS Alerts            50.1250\n",
       "Log Source                 0.0000\n",
       "dtype: float64"
      ]
     },
     "execution_count": 35,
     "metadata": {},
     "output_type": "execute_result"
    }
   ],
   "source": [
    "df.isnull().sum() / len(df) * 100"
   ]
  },
  {
   "cell_type": "markdown",
   "metadata": {},
   "source": [
    "# Check data types"
   ]
  },
  {
   "cell_type": "code",
   "execution_count": 36,
   "metadata": {},
   "outputs": [
    {
     "name": "stdout",
     "output_type": "stream",
     "text": [
      "<class 'pandas.core.frame.DataFrame'>\n",
      "RangeIndex: 40000 entries, 0 to 39999\n",
      "Data columns (total 25 columns):\n",
      " #   Column                  Non-Null Count  Dtype  \n",
      "---  ------                  --------------  -----  \n",
      " 0   Timestamp               40000 non-null  object \n",
      " 1   Source IP Address       40000 non-null  object \n",
      " 2   Destination IP Address  40000 non-null  object \n",
      " 3   Source Port             40000 non-null  int64  \n",
      " 4   Destination Port        40000 non-null  int64  \n",
      " 5   Protocol                40000 non-null  object \n",
      " 6   Packet Length           40000 non-null  int64  \n",
      " 7   Packet Type             40000 non-null  object \n",
      " 8   Traffic Type            40000 non-null  object \n",
      " 9   Payload Data            40000 non-null  object \n",
      " 10  Malware Indicators      20000 non-null  object \n",
      " 11  Anomaly Scores          40000 non-null  float64\n",
      " 12  Alerts/Warnings         19933 non-null  object \n",
      " 13  Attack Type             40000 non-null  object \n",
      " 14  Attack Signature        40000 non-null  object \n",
      " 15  Action Taken            40000 non-null  object \n",
      " 16  Severity Level          40000 non-null  object \n",
      " 17  User Information        40000 non-null  object \n",
      " 18  Device Information      40000 non-null  object \n",
      " 19  Network Segment         40000 non-null  object \n",
      " 20  Geo-location Data       40000 non-null  object \n",
      " 21  Proxy Information       20149 non-null  object \n",
      " 22  Firewall Logs           20039 non-null  object \n",
      " 23  IDS/IPS Alerts          19950 non-null  object \n",
      " 24  Log Source              40000 non-null  object \n",
      "dtypes: float64(1), int64(3), object(21)\n",
      "memory usage: 7.6+ MB\n"
     ]
    }
   ],
   "source": [
    "df.info()"
   ]
  },
  {
   "cell_type": "markdown",
   "metadata": {},
   "source": [
    "# Handle missing values\n"
   ]
  },
  {
   "cell_type": "markdown",
   "metadata": {},
   "source": [
    "**Alerts/Warnings**: If the column has value 'Alert Triggered', then the value of 'Alerts/Warnings' is 'yes'. Otherwise, the value is 'no'.<br>"
   ]
  },
  {
   "cell_type": "code",
   "execution_count": 37,
   "metadata": {},
   "outputs": [
    {
     "data": {
      "text/plain": [
       "array([nan, 'Alert Triggered'], dtype=object)"
      ]
     },
     "execution_count": 37,
     "metadata": {},
     "output_type": "execute_result"
    }
   ],
   "source": [
    "# Check for unique values in the 'Alerts/Warnings' column\n",
    "df['Alerts/Warnings'].unique()"
   ]
  },
  {
   "cell_type": "code",
   "execution_count": 38,
   "metadata": {},
   "outputs": [],
   "source": [
    "# Replace 'Alert Triggered' with 'yes' and 'No Alert' with 'no'\n",
    "df['Alerts/Warnings'] = df['Alerts/Warnings'].apply(lambda x:'yes' if x == 'Alert Triggered' else 'no')"
   ]
  },
  {
   "cell_type": "markdown",
   "metadata": {},
   "source": [
    "**Malware Indicators**: if the column has missing value, it will be filled with 'No Dectection'"
   ]
  },
  {
   "cell_type": "code",
   "execution_count": 39,
   "metadata": {},
   "outputs": [
    {
     "data": {
      "text/plain": [
       "array(['IoC Detected', nan], dtype=object)"
      ]
     },
     "execution_count": 39,
     "metadata": {},
     "output_type": "execute_result"
    }
   ],
   "source": [
    "# Check for unique values in the 'Alerts/Warnings' column\n",
    "df['Malware Indicators'].unique()"
   ]
  },
  {
   "cell_type": "code",
   "execution_count": 40,
   "metadata": {},
   "outputs": [],
   "source": [
    "# Replace NaN values with 'No Detection'\n",
    "df['Malware Indicators'] = df['Malware Indicators'].apply(lambda x: 'No Dectection' if pd.isna(x) else x)"
   ]
  },
  {
   "cell_type": "markdown",
   "metadata": {},
   "source": [
    "**Proxy Information**: if the column has missing value, it will be filled with 'No Proxy'"
   ]
  },
  {
   "cell_type": "code",
   "execution_count": 41,
   "metadata": {},
   "outputs": [
    {
     "data": {
      "text/plain": [
       "array(['150.9.97.135', nan, '114.133.48.179', ..., '60.51.30.46',\n",
       "       '137.76.130.8', '112.169.115.139'], dtype=object)"
      ]
     },
     "execution_count": 41,
     "metadata": {},
     "output_type": "execute_result"
    }
   ],
   "source": [
    "# Check for unique values in the 'Malware Indicators' column\n",
    "df['Proxy Information'].unique()"
   ]
  },
  {
   "cell_type": "code",
   "execution_count": 42,
   "metadata": {},
   "outputs": [],
   "source": [
    "# Replace NaN values with 'No Proxy'\n",
    "df['Proxy Information'] = df['Proxy Information'].apply(lambda x: 'No Proxy' if pd.isna(x) else x)"
   ]
  },
  {
   "cell_type": "markdown",
   "metadata": {},
   "source": [
    "**Firewall Logs**: if the column has missing value, it will be filled with 'No Firewall'"
   ]
  },
  {
   "cell_type": "code",
   "execution_count": 43,
   "metadata": {},
   "outputs": [
    {
     "data": {
      "text/plain": [
       "array(['Log Data', nan], dtype=object)"
      ]
     },
     "execution_count": 43,
     "metadata": {},
     "output_type": "execute_result"
    }
   ],
   "source": [
    "# Check for unique values in the 'Proxy Information' column\n",
    "df['Firewall Logs'].unique()"
   ]
  },
  {
   "cell_type": "code",
   "execution_count": 44,
   "metadata": {},
   "outputs": [],
   "source": [
    "# Replace NaN values with 'No Data'\n",
    "df['Firewall Logs'] = df['Firewall Logs'].apply(lambda x: 'No Data' if pd.isna(x) else x)"
   ]
  },
  {
   "cell_type": "markdown",
   "metadata": {},
   "source": [
    "**IDS/IPS Alerts**: if the column has missing value, it will be filled with 'No IDS/IPS'"
   ]
  },
  {
   "cell_type": "code",
   "execution_count": 45,
   "metadata": {},
   "outputs": [
    {
     "data": {
      "text/plain": [
       "array([nan, 'Alert Data'], dtype=object)"
      ]
     },
     "execution_count": 45,
     "metadata": {},
     "output_type": "execute_result"
    }
   ],
   "source": [
    "# Check for unique values in the 'Firewall Logs' column\n",
    "df['IDS/IPS Alerts'].unique()"
   ]
  },
  {
   "cell_type": "code",
   "execution_count": 46,
   "metadata": {},
   "outputs": [],
   "source": [
    "# Replace NaN values with 'No Data' \n",
    "df['IDS/IPS Alerts'] = df['IDS/IPS Alerts'].apply(lambda x: 'No Data' if pd.isna(x) else x)"
   ]
  },
  {
   "cell_type": "code",
   "execution_count": 47,
   "metadata": {},
   "outputs": [
    {
     "data": {
      "text/plain": [
       "Timestamp                 0\n",
       "Attack Type               0\n",
       "IDS/IPS Alerts            0\n",
       "Firewall Logs             0\n",
       "Proxy Information         0\n",
       "Geo-location Data         0\n",
       "Network Segment           0\n",
       "Device Information        0\n",
       "User Information          0\n",
       "Severity Level            0\n",
       "Action Taken              0\n",
       "Attack Signature          0\n",
       "Alerts/Warnings           0\n",
       "Source IP Address         0\n",
       "Anomaly Scores            0\n",
       "Malware Indicators        0\n",
       "Payload Data              0\n",
       "Traffic Type              0\n",
       "Packet Type               0\n",
       "Packet Length             0\n",
       "Protocol                  0\n",
       "Destination Port          0\n",
       "Source Port               0\n",
       "Destination IP Address    0\n",
       "Log Source                0\n",
       "dtype: int64"
      ]
     },
     "execution_count": 47,
     "metadata": {},
     "output_type": "execute_result"
    }
   ],
   "source": [
    "df.isnull().sum().sort_values(ascending=False)"
   ]
  },
  {
   "cell_type": "markdown",
   "metadata": {},
   "source": [
    "# Handle attribute 'Device Information'"
   ]
  },
  {
   "cell_type": "code",
   "execution_count": 48,
   "metadata": {},
   "outputs": [
    {
     "data": {
      "text/plain": [
       "0        Mozilla/5.0 (compatible; MSIE 8.0; Windows NT ...\n",
       "1        Mozilla/5.0 (compatible; MSIE 8.0; Windows NT ...\n",
       "2        Mozilla/5.0 (compatible; MSIE 9.0; Windows NT ...\n",
       "3        Mozilla/5.0 (Macintosh; PPC Mac OS X 10_11_5; ...\n",
       "4        Mozilla/5.0 (compatible; MSIE 5.0; Windows NT ...\n",
       "                               ...                        \n",
       "39995    Mozilla/5.0 (iPad; CPU iPad OS 14_2_1 like Mac...\n",
       "39996    Mozilla/5.0 (Windows; U; Windows 98; Win 9x 4....\n",
       "39997    Mozilla/5.0 (Windows; U; Windows NT 4.0) Apple...\n",
       "39998    Mozilla/5.0 (X11; Linux i686) AppleWebKit/536....\n",
       "39999    Mozilla/5.0 (iPod; U; CPU iPhone OS 3_0 like M...\n",
       "Name: Device Information, Length: 40000, dtype: object"
      ]
     },
     "execution_count": 48,
     "metadata": {},
     "output_type": "execute_result"
    }
   ],
   "source": [
    "df['Device Information']"
   ]
  },
  {
   "cell_type": "markdown",
   "metadata": {},
   "source": [
    "## Create a 'Device/OS' column"
   ]
  },
  {
   "cell_type": "code",
   "execution_count": 49,
   "metadata": {},
   "outputs": [
    {
     "data": {
      "text/plain": [
       "0      Windows\n",
       "1      Windows\n",
       "2      Windows\n",
       "3    Macintosh\n",
       "4      Windows\n",
       "5        Linux\n",
       "6        Linux\n",
       "7    Macintosh\n",
       "8    Macintosh\n",
       "9      Windows\n",
       "Name: Device/OS, dtype: object"
      ]
     },
     "execution_count": 49,
     "metadata": {},
     "output_type": "execute_result"
    }
   ],
   "source": [
    "import re\n",
    "\n",
    "devices = [\n",
    "    r'Windows',\n",
    "    r'Linux',\n",
    "    r'Android',\n",
    "    r'iPad',\n",
    "    r'iPod',\n",
    "    r'iPhone',\n",
    "    r'Macintosh']\n",
    "\n",
    "\n",
    "def device_os_finder(user_agent):\n",
    "    for device in devices:\n",
    "        match_device = re.search(device, user_agent, re.I)  # re.I makes the search case-insensitive\n",
    "        if match_device:\n",
    "            return match_device.group()\n",
    "    return 'Unknown'\n",
    "\n",
    "# Extract device or OS\n",
    "df['Device/OS'] = df['Device Information'].apply(device_os_finder)\n",
    "df['Device/OS'].head(10)"
   ]
  },
  {
   "cell_type": "code",
   "execution_count": 50,
   "metadata": {},
   "outputs": [
    {
     "data": {
      "text/plain": [
       "Device/OS\n",
       "Windows      17953\n",
       "Linux         8840\n",
       "Macintosh     5813\n",
       "iPod          2656\n",
       "Android       1620\n",
       "iPhone        1567\n",
       "iPad          1551\n",
       "Name: count, dtype: int64"
      ]
     },
     "execution_count": 50,
     "metadata": {},
     "output_type": "execute_result"
    }
   ],
   "source": [
    "df['Device/OS'].value_counts()"
   ]
  },
  {
   "cell_type": "markdown",
   "metadata": {},
   "source": [
    "## Create a 'Browser' column"
   ]
  },
  {
   "cell_type": "code",
   "execution_count": 51,
   "metadata": {},
   "outputs": [
    {
     "data": {
      "text/plain": [
       "0        Mozilla\n",
       "1        Mozilla\n",
       "2        Mozilla\n",
       "3        Mozilla\n",
       "4        Mozilla\n",
       "          ...   \n",
       "39995    Mozilla\n",
       "39996    Mozilla\n",
       "39997    Mozilla\n",
       "39998    Mozilla\n",
       "39999    Mozilla\n",
       "Name: Browser, Length: 40000, dtype: object"
      ]
     },
     "execution_count": 51,
     "metadata": {},
     "output_type": "execute_result"
    }
   ],
   "source": [
    "df['Browser'] = df['Device Information'].str.split('/').str[0]\n",
    "df['Browser']"
   ]
  },
  {
   "cell_type": "code",
   "execution_count": 52,
   "metadata": {},
   "outputs": [
    {
     "data": {
      "text/plain": [
       "Browser\n",
       "Mozilla    31951\n",
       "Opera       8049\n",
       "Name: count, dtype: int64"
      ]
     },
     "execution_count": 52,
     "metadata": {},
     "output_type": "execute_result"
    }
   ],
   "source": [
    "df['Browser'].value_counts()"
   ]
  },
  {
   "cell_type": "markdown",
   "metadata": {},
   "source": [
    "# Handle 'Timestamp' attribute"
   ]
  },
  {
   "cell_type": "code",
   "execution_count": 53,
   "metadata": {},
   "outputs": [
    {
     "name": "stdout",
     "output_type": "stream",
     "text": [
      "<class 'pandas.core.series.Series'>\n",
      "RangeIndex: 40000 entries, 0 to 39999\n",
      "Series name: Timestamp\n",
      "Non-Null Count  Dtype         \n",
      "--------------  -----         \n",
      "40000 non-null  datetime64[ns]\n",
      "dtypes: datetime64[ns](1)\n",
      "memory usage: 312.6 KB\n"
     ]
    }
   ],
   "source": [
    "df['Timestamp'] = pd.to_datetime(df['Timestamp'])\n",
    "df['Timestamp'].info()"
   ]
  },
  {
   "cell_type": "code",
   "execution_count": 54,
   "metadata": {},
   "outputs": [
    {
     "data": {
      "text/html": [
       "<div>\n",
       "<style scoped>\n",
       "    .dataframe tbody tr th:only-of-type {\n",
       "        vertical-align: middle;\n",
       "    }\n",
       "\n",
       "    .dataframe tbody tr th {\n",
       "        vertical-align: top;\n",
       "    }\n",
       "\n",
       "    .dataframe thead th {\n",
       "        text-align: right;\n",
       "    }\n",
       "</style>\n",
       "<table border=\"1\" class=\"dataframe\">\n",
       "  <thead>\n",
       "    <tr style=\"text-align: right;\">\n",
       "      <th></th>\n",
       "      <th>Timestamp</th>\n",
       "      <th>Source IP Address</th>\n",
       "      <th>Destination IP Address</th>\n",
       "      <th>Source Port</th>\n",
       "      <th>Destination Port</th>\n",
       "      <th>Protocol</th>\n",
       "      <th>Packet Length</th>\n",
       "      <th>Packet Type</th>\n",
       "      <th>Traffic Type</th>\n",
       "      <th>Payload Data</th>\n",
       "      <th>...</th>\n",
       "      <th>Log Source</th>\n",
       "      <th>Device/OS</th>\n",
       "      <th>Browser</th>\n",
       "      <th>Year</th>\n",
       "      <th>Month</th>\n",
       "      <th>DayofWeek</th>\n",
       "      <th>Day</th>\n",
       "      <th>Hour</th>\n",
       "      <th>Minute</th>\n",
       "      <th>Second</th>\n",
       "    </tr>\n",
       "  </thead>\n",
       "  <tbody>\n",
       "    <tr>\n",
       "      <th>0</th>\n",
       "      <td>2023-05-30 06:33:58</td>\n",
       "      <td>103.216.15.12</td>\n",
       "      <td>84.9.164.252</td>\n",
       "      <td>31225</td>\n",
       "      <td>17616</td>\n",
       "      <td>ICMP</td>\n",
       "      <td>503</td>\n",
       "      <td>Data</td>\n",
       "      <td>HTTP</td>\n",
       "      <td>Qui natus odio asperiores nam. Optio nobis ius...</td>\n",
       "      <td>...</td>\n",
       "      <td>Server</td>\n",
       "      <td>Windows</td>\n",
       "      <td>Mozilla</td>\n",
       "      <td>2023</td>\n",
       "      <td>5</td>\n",
       "      <td>1</td>\n",
       "      <td>30</td>\n",
       "      <td>6</td>\n",
       "      <td>33</td>\n",
       "      <td>58</td>\n",
       "    </tr>\n",
       "    <tr>\n",
       "      <th>1</th>\n",
       "      <td>2020-08-26 07:08:30</td>\n",
       "      <td>78.199.217.198</td>\n",
       "      <td>66.191.137.154</td>\n",
       "      <td>17245</td>\n",
       "      <td>48166</td>\n",
       "      <td>ICMP</td>\n",
       "      <td>1174</td>\n",
       "      <td>Data</td>\n",
       "      <td>HTTP</td>\n",
       "      <td>Aperiam quos modi officiis veritatis rem. Omni...</td>\n",
       "      <td>...</td>\n",
       "      <td>Firewall</td>\n",
       "      <td>Windows</td>\n",
       "      <td>Mozilla</td>\n",
       "      <td>2020</td>\n",
       "      <td>8</td>\n",
       "      <td>2</td>\n",
       "      <td>26</td>\n",
       "      <td>7</td>\n",
       "      <td>8</td>\n",
       "      <td>30</td>\n",
       "    </tr>\n",
       "    <tr>\n",
       "      <th>2</th>\n",
       "      <td>2022-11-13 08:23:25</td>\n",
       "      <td>63.79.210.48</td>\n",
       "      <td>198.219.82.17</td>\n",
       "      <td>16811</td>\n",
       "      <td>53600</td>\n",
       "      <td>UDP</td>\n",
       "      <td>306</td>\n",
       "      <td>Control</td>\n",
       "      <td>HTTP</td>\n",
       "      <td>Perferendis sapiente vitae soluta. Hic delectu...</td>\n",
       "      <td>...</td>\n",
       "      <td>Firewall</td>\n",
       "      <td>Windows</td>\n",
       "      <td>Mozilla</td>\n",
       "      <td>2022</td>\n",
       "      <td>11</td>\n",
       "      <td>6</td>\n",
       "      <td>13</td>\n",
       "      <td>8</td>\n",
       "      <td>23</td>\n",
       "      <td>25</td>\n",
       "    </tr>\n",
       "    <tr>\n",
       "      <th>3</th>\n",
       "      <td>2023-07-02 10:38:46</td>\n",
       "      <td>163.42.196.10</td>\n",
       "      <td>101.228.192.255</td>\n",
       "      <td>20018</td>\n",
       "      <td>32534</td>\n",
       "      <td>UDP</td>\n",
       "      <td>385</td>\n",
       "      <td>Data</td>\n",
       "      <td>HTTP</td>\n",
       "      <td>Totam maxime beatae expedita explicabo porro l...</td>\n",
       "      <td>...</td>\n",
       "      <td>Firewall</td>\n",
       "      <td>Macintosh</td>\n",
       "      <td>Mozilla</td>\n",
       "      <td>2023</td>\n",
       "      <td>7</td>\n",
       "      <td>6</td>\n",
       "      <td>2</td>\n",
       "      <td>10</td>\n",
       "      <td>38</td>\n",
       "      <td>46</td>\n",
       "    </tr>\n",
       "    <tr>\n",
       "      <th>4</th>\n",
       "      <td>2023-07-16 13:11:07</td>\n",
       "      <td>71.166.185.76</td>\n",
       "      <td>189.243.174.238</td>\n",
       "      <td>6131</td>\n",
       "      <td>26646</td>\n",
       "      <td>TCP</td>\n",
       "      <td>1462</td>\n",
       "      <td>Data</td>\n",
       "      <td>DNS</td>\n",
       "      <td>Odit nesciunt dolorem nisi iste iusto. Animi v...</td>\n",
       "      <td>...</td>\n",
       "      <td>Firewall</td>\n",
       "      <td>Windows</td>\n",
       "      <td>Mozilla</td>\n",
       "      <td>2023</td>\n",
       "      <td>7</td>\n",
       "      <td>6</td>\n",
       "      <td>16</td>\n",
       "      <td>13</td>\n",
       "      <td>11</td>\n",
       "      <td>7</td>\n",
       "    </tr>\n",
       "    <tr>\n",
       "      <th>...</th>\n",
       "      <td>...</td>\n",
       "      <td>...</td>\n",
       "      <td>...</td>\n",
       "      <td>...</td>\n",
       "      <td>...</td>\n",
       "      <td>...</td>\n",
       "      <td>...</td>\n",
       "      <td>...</td>\n",
       "      <td>...</td>\n",
       "      <td>...</td>\n",
       "      <td>...</td>\n",
       "      <td>...</td>\n",
       "      <td>...</td>\n",
       "      <td>...</td>\n",
       "      <td>...</td>\n",
       "      <td>...</td>\n",
       "      <td>...</td>\n",
       "      <td>...</td>\n",
       "      <td>...</td>\n",
       "      <td>...</td>\n",
       "      <td>...</td>\n",
       "    </tr>\n",
       "    <tr>\n",
       "      <th>39995</th>\n",
       "      <td>2023-05-26 14:08:42</td>\n",
       "      <td>26.36.109.26</td>\n",
       "      <td>121.100.75.240</td>\n",
       "      <td>31005</td>\n",
       "      <td>6764</td>\n",
       "      <td>UDP</td>\n",
       "      <td>1428</td>\n",
       "      <td>Control</td>\n",
       "      <td>HTTP</td>\n",
       "      <td>Quibusdam ullam consequatur consequuntur accus...</td>\n",
       "      <td>...</td>\n",
       "      <td>Firewall</td>\n",
       "      <td>iPad</td>\n",
       "      <td>Mozilla</td>\n",
       "      <td>2023</td>\n",
       "      <td>5</td>\n",
       "      <td>4</td>\n",
       "      <td>26</td>\n",
       "      <td>14</td>\n",
       "      <td>8</td>\n",
       "      <td>42</td>\n",
       "    </tr>\n",
       "    <tr>\n",
       "      <th>39996</th>\n",
       "      <td>2023-03-27 00:38:27</td>\n",
       "      <td>17.21.163.81</td>\n",
       "      <td>196.108.134.78</td>\n",
       "      <td>2553</td>\n",
       "      <td>28091</td>\n",
       "      <td>UDP</td>\n",
       "      <td>1184</td>\n",
       "      <td>Control</td>\n",
       "      <td>HTTP</td>\n",
       "      <td>Quaerat neque esse. Animi expedita natus commo...</td>\n",
       "      <td>...</td>\n",
       "      <td>Firewall</td>\n",
       "      <td>Windows</td>\n",
       "      <td>Mozilla</td>\n",
       "      <td>2023</td>\n",
       "      <td>3</td>\n",
       "      <td>0</td>\n",
       "      <td>27</td>\n",
       "      <td>0</td>\n",
       "      <td>38</td>\n",
       "      <td>27</td>\n",
       "    </tr>\n",
       "    <tr>\n",
       "      <th>39997</th>\n",
       "      <td>2022-03-31 01:45:49</td>\n",
       "      <td>162.35.217.57</td>\n",
       "      <td>98.107.0.15</td>\n",
       "      <td>22505</td>\n",
       "      <td>25152</td>\n",
       "      <td>UDP</td>\n",
       "      <td>1043</td>\n",
       "      <td>Data</td>\n",
       "      <td>DNS</td>\n",
       "      <td>Enim at aspernatur illum. Saepe numquam eligen...</td>\n",
       "      <td>...</td>\n",
       "      <td>Server</td>\n",
       "      <td>Windows</td>\n",
       "      <td>Mozilla</td>\n",
       "      <td>2022</td>\n",
       "      <td>3</td>\n",
       "      <td>3</td>\n",
       "      <td>31</td>\n",
       "      <td>1</td>\n",
       "      <td>45</td>\n",
       "      <td>49</td>\n",
       "    </tr>\n",
       "    <tr>\n",
       "      <th>39998</th>\n",
       "      <td>2023-09-22 18:32:38</td>\n",
       "      <td>208.72.233.205</td>\n",
       "      <td>173.79.112.252</td>\n",
       "      <td>20013</td>\n",
       "      <td>2703</td>\n",
       "      <td>UDP</td>\n",
       "      <td>483</td>\n",
       "      <td>Data</td>\n",
       "      <td>FTP</td>\n",
       "      <td>Officiis dolorem sed harum provident earum dis...</td>\n",
       "      <td>...</td>\n",
       "      <td>Server</td>\n",
       "      <td>Linux</td>\n",
       "      <td>Mozilla</td>\n",
       "      <td>2023</td>\n",
       "      <td>9</td>\n",
       "      <td>4</td>\n",
       "      <td>22</td>\n",
       "      <td>18</td>\n",
       "      <td>32</td>\n",
       "      <td>38</td>\n",
       "    </tr>\n",
       "    <tr>\n",
       "      <th>39999</th>\n",
       "      <td>2023-10-10 11:59:52</td>\n",
       "      <td>14.102.21.108</td>\n",
       "      <td>109.198.45.7</td>\n",
       "      <td>50137</td>\n",
       "      <td>55575</td>\n",
       "      <td>ICMP</td>\n",
       "      <td>1175</td>\n",
       "      <td>Control</td>\n",
       "      <td>HTTP</td>\n",
       "      <td>Eligendi omnis voluptate nihil voluptatibus do...</td>\n",
       "      <td>...</td>\n",
       "      <td>Firewall</td>\n",
       "      <td>iPod</td>\n",
       "      <td>Mozilla</td>\n",
       "      <td>2023</td>\n",
       "      <td>10</td>\n",
       "      <td>1</td>\n",
       "      <td>10</td>\n",
       "      <td>11</td>\n",
       "      <td>59</td>\n",
       "      <td>52</td>\n",
       "    </tr>\n",
       "  </tbody>\n",
       "</table>\n",
       "<p>40000 rows × 34 columns</p>\n",
       "</div>"
      ],
      "text/plain": [
       "                Timestamp Source IP Address Destination IP Address  \\\n",
       "0     2023-05-30 06:33:58     103.216.15.12           84.9.164.252   \n",
       "1     2020-08-26 07:08:30    78.199.217.198         66.191.137.154   \n",
       "2     2022-11-13 08:23:25      63.79.210.48          198.219.82.17   \n",
       "3     2023-07-02 10:38:46     163.42.196.10        101.228.192.255   \n",
       "4     2023-07-16 13:11:07     71.166.185.76        189.243.174.238   \n",
       "...                   ...               ...                    ...   \n",
       "39995 2023-05-26 14:08:42      26.36.109.26         121.100.75.240   \n",
       "39996 2023-03-27 00:38:27      17.21.163.81         196.108.134.78   \n",
       "39997 2022-03-31 01:45:49     162.35.217.57            98.107.0.15   \n",
       "39998 2023-09-22 18:32:38    208.72.233.205         173.79.112.252   \n",
       "39999 2023-10-10 11:59:52     14.102.21.108           109.198.45.7   \n",
       "\n",
       "       Source Port  Destination Port Protocol  Packet Length Packet Type  \\\n",
       "0            31225             17616     ICMP            503        Data   \n",
       "1            17245             48166     ICMP           1174        Data   \n",
       "2            16811             53600      UDP            306     Control   \n",
       "3            20018             32534      UDP            385        Data   \n",
       "4             6131             26646      TCP           1462        Data   \n",
       "...            ...               ...      ...            ...         ...   \n",
       "39995        31005              6764      UDP           1428     Control   \n",
       "39996         2553             28091      UDP           1184     Control   \n",
       "39997        22505             25152      UDP           1043        Data   \n",
       "39998        20013              2703      UDP            483        Data   \n",
       "39999        50137             55575     ICMP           1175     Control   \n",
       "\n",
       "      Traffic Type                                       Payload Data  ...  \\\n",
       "0             HTTP  Qui natus odio asperiores nam. Optio nobis ius...  ...   \n",
       "1             HTTP  Aperiam quos modi officiis veritatis rem. Omni...  ...   \n",
       "2             HTTP  Perferendis sapiente vitae soluta. Hic delectu...  ...   \n",
       "3             HTTP  Totam maxime beatae expedita explicabo porro l...  ...   \n",
       "4              DNS  Odit nesciunt dolorem nisi iste iusto. Animi v...  ...   \n",
       "...            ...                                                ...  ...   \n",
       "39995         HTTP  Quibusdam ullam consequatur consequuntur accus...  ...   \n",
       "39996         HTTP  Quaerat neque esse. Animi expedita natus commo...  ...   \n",
       "39997          DNS  Enim at aspernatur illum. Saepe numquam eligen...  ...   \n",
       "39998          FTP  Officiis dolorem sed harum provident earum dis...  ...   \n",
       "39999         HTTP  Eligendi omnis voluptate nihil voluptatibus do...  ...   \n",
       "\n",
       "      Log Source  Device/OS  Browser  Year Month DayofWeek Day Hour Minute  \\\n",
       "0         Server    Windows  Mozilla  2023     5         1  30    6     33   \n",
       "1       Firewall    Windows  Mozilla  2020     8         2  26    7      8   \n",
       "2       Firewall    Windows  Mozilla  2022    11         6  13    8     23   \n",
       "3       Firewall  Macintosh  Mozilla  2023     7         6   2   10     38   \n",
       "4       Firewall    Windows  Mozilla  2023     7         6  16   13     11   \n",
       "...          ...        ...      ...   ...   ...       ...  ..  ...    ...   \n",
       "39995   Firewall       iPad  Mozilla  2023     5         4  26   14      8   \n",
       "39996   Firewall    Windows  Mozilla  2023     3         0  27    0     38   \n",
       "39997     Server    Windows  Mozilla  2022     3         3  31    1     45   \n",
       "39998     Server      Linux  Mozilla  2023     9         4  22   18     32   \n",
       "39999   Firewall       iPod  Mozilla  2023    10         1  10   11     59   \n",
       "\n",
       "      Second  \n",
       "0         58  \n",
       "1         30  \n",
       "2         25  \n",
       "3         46  \n",
       "4          7  \n",
       "...      ...  \n",
       "39995     42  \n",
       "39996     27  \n",
       "39997     49  \n",
       "39998     38  \n",
       "39999     52  \n",
       "\n",
       "[40000 rows x 34 columns]"
      ]
     },
     "execution_count": 54,
     "metadata": {},
     "output_type": "execute_result"
    }
   ],
   "source": [
    "df['Year'] = df['Timestamp'].dt.year\n",
    "df['Month'] = df['Timestamp'].dt.month\n",
    "df['DayofWeek'] = df['Timestamp'].dt.dayofweek\n",
    "df['Day'] = df['Timestamp'].dt.day\n",
    "df['Hour'] = df['Timestamp'].dt.hour\n",
    "df['Minute'] = df['Timestamp'].dt.minute\n",
    "df['Second'] = df['Timestamp'].dt.second\n",
    "\n",
    "df"
   ]
  },
  {
   "cell_type": "code",
   "execution_count": null,
   "metadata": {},
   "outputs": [],
   "source": []
  }
 ],
 "metadata": {
  "kernelspec": {
   "display_name": "Python 3",
   "language": "python",
   "name": "python3"
  },
  "language_info": {
   "codemirror_mode": {
    "name": "ipython",
    "version": 3
   },
   "file_extension": ".py",
   "mimetype": "text/x-python",
   "name": "python",
   "nbconvert_exporter": "python",
   "pygments_lexer": "ipython3",
   "version": "3.12.0"
  }
 },
 "nbformat": 4,
 "nbformat_minor": 2
}
